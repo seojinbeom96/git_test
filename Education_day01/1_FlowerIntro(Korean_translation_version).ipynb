{
  "nbformat": 4,
  "nbformat_minor": 0,
  "metadata": {
    "colab": {
      "name": "1.FlowerIntro(Korean translation version).ipynb",
      "provenance": [],
      "collapsed_sections": [],
      "toc_visible": true
    },
    "kernelspec": {
      "display_name": "Python 3",
      "name": "python3"
    },
    "language_info": {
      "name": "python"
    },
    "accelerator": "GPU"
  },
  "cells": [
    {
      "cell_type": "markdown",
      "metadata": {
        "id": "mBu1HRRY6bwX"
      },
      "source": [
        "## Part 0: 사전준비\n",
        "\n",
        "시작하기에 앞서, Google Colab GPU 가속 설정을 확인해야 합니다.\n",
        "\n",
        "`런타임 > 런타임 유형 변경 > 하드웨어 가속: GPU > 저장`"
      ]
    },
    {
      "cell_type": "markdown",
      "metadata": {
        "id": "cz71fPGrpRiQ"
      },
      "source": [
        "# Flower를 활용한 연합학습 소개\n",
        "\n",
        "Flower를 활용한 KAICD 연합학습 강좌에 오신 것을 환영합니다!\n",
        "\n",
        "이 노트북은 Flower와 PyTorch를 이용한 연합학습 시스템을 구축하는 내용을 담고 있습니다.\n",
        "\n",
        "Part 1에서는 PyTorch를 활용하여 모델 학습 파이프라인과 데이터를 불러오는 과정을 배우고,\n",
        "\n",
        "Part 2에서는 Flower를 이용하여 PyTorch 기반 파이프라인을 연합학습에 적용하는 과정을 배울 예정입니다."
      ]
    },
    {
      "cell_type": "markdown",
      "metadata": {
        "id": "D4KiTMTpiort"
      },
      "source": [
        "### 의존성 설치\n",
        "\n",
        "다음으로, PyTorch (`torch` 및 `torchvision`)와 Flower (`flwr`)에 필요한 패키지를 설치합니다:"
      ]
    },
    {
      "cell_type": "code",
      "metadata": {
        "id": "eTrCL2FmC5U5"
      },
      "source": [
        "!pip install torch==1.9.0 torchvision==0.10.0 git+https://github.com/adap/flower.git@release/0.17#egg=flwr[\"simulation\"]"
      ],
      "execution_count": null,
      "outputs": []
    },
    {
      "cell_type": "markdown",
      "metadata": {
        "id": "3UFT3_A3iz76"
      },
      "source": [
        "이제 필요한 패키지를 설치했으니, 이 튜토리얼에 필요한 모든 것을 가져올 수 있습니다:"
      ]
    },
    {
      "cell_type": "code",
      "metadata": {
        "id": "Tja2N6l-qH-e"
      },
      "source": [
        "from collections import OrderedDict\n",
        "from typing import List\n",
        "\n",
        "import flwr as fl\n",
        "import numpy as np\n",
        "import matplotlib.pyplot as plt\n",
        "import torch\n",
        "import torch.nn as nn\n",
        "import torchvision\n",
        "import torch.nn.functional as F\n",
        "import torchvision.transforms as transforms\n",
        "from torch.utils.data import DataLoader, random_split\n",
        "from torchvision.datasets import CIFAR10\n",
        "\n",
        "print(\"numpy\", np.__version__)\n",
        "print(\"torch\", torch.__version__)\n",
        "print(\"torchvision\", torchvision.__version__)\n",
        "\n",
        "DEVICE = torch.device(\"cpu\")\n",
        "print(f\"Training on {DEVICE}\")"
      ],
      "execution_count": null,
      "outputs": []
    },
    {
      "cell_type": "markdown",
      "metadata": {
        "id": "8D2bnPKG58Gx"
      },
      "source": [
        "Google Colab에서 실행하고 런타임에 GPU 가속기가 있다면, 출력 결과에서 `Training on cuda:0` 문장을 확인할 수 있습니다."
      ]
    },
    {
      "cell_type": "markdown",
      "metadata": {
        "id": "JVcgAAiaihnx"
      },
      "source": [
        "\n",
        "### 데이터 불러오기\n",
        "\n",
        "연합학습은 여러 도메인에 걸쳐 다양한 유형의 작업에 적용할 수 있습니다.\n",
        "\n",
        "이 튜토리얼에서는 CIFAR-10를 사용하여, 합성곱 신경망(Convolutional Neural Network, CNN)을 훈련시키는 과정을 연합학습에 적용하고자 합니다.\n",
        "\n",
        "CIFAR-10는 10가지 클래스를 가지고 있는 이미지 데이터 세트이며, 딥러닝 분야에서 이미지 분류기를 훈련시키고 테스트하는데 널리 사용되고 있습니다."
      ]
    },
    {
      "cell_type": "code",
      "metadata": {
        "id": "-tpk_Zv37ONm"
      },
      "source": [
        "CLASSES = ('plane', 'car', 'bird', 'cat', 'deer', 'dog', 'frog', 'horse', 'ship', 'truck')"
      ],
      "execution_count": null,
      "outputs": []
    },
    {
      "cell_type": "markdown",
      "metadata": {
        "id": "toxAoOq6fS2h"
      },
      "source": [
        "기본 설정이 끝났으니, 이제 CIFAR-10 데이터 세트를 여러 파티션으로 분할하여 여러 참여기관이 여러 데이터 세트를 갖는 시뮬레이션을 수행할 예정입니다.\n",
        "\n",
        "각 파티션은 단일 참여기관의 데이터를 나타냅니다.\n",
        "\n",
        "여기서는 연합학습 시뮬레이션을 목적으로 데이터를 분할했지만,\n",
        "\n",
        "현실에서는 각 참여기관마다 고유한 데이터를 가지고 있기 때문에 데이터 분할이 필요치 않습니다.\n",
        "\n",
        "각 참여기관은 연합학습 시스템에서 클라이언트 역할을 수행합니다.\n",
        "\n",
        "따라서, 10개의 참여기관이 연합학습에 참여한다는 것은 연합학습 서버에 10개의 클라이언트가 연결되어 있음을 의미합니다.\n"
      ]
    },
    {
      "cell_type": "code",
      "metadata": {
        "id": "q9LhPFDh0S5c"
      },
      "source": [
        "NUM_CLIENTS = 10"
      ],
      "execution_count": null,
      "outputs": []
    },
    {
      "cell_type": "markdown",
      "metadata": {
        "id": "01Zy7yjBPhQd"
      },
      "source": [
        "CIFAR-10 훈련 및 테스트 데이터 세트를 불러오고, 10개의 데이터 세트로 분할(각각 훈련 및 검증 세트로 분할)하여 각각 `DataLoader`로 포장합니다:"
      ]
    },
    {
      "cell_type": "code",
      "metadata": {
        "id": "J4Em7BPNTXeX"
      },
      "source": [
        "def load_datasets():\n",
        "    # CIFAR-10 데이터 세트를 다운로드받고, transform 옵션을 통해 변환합니다 (훈련 및 테스트).\n",
        "    transform = transforms.Compose(\n",
        "      [transforms.ToTensor(), transforms.Normalize((0.5, 0.5, 0.5), (0.5, 0.5, 0.5))]\n",
        "    )\n",
        "    trainset = CIFAR10(\"./dataset\", train=True, download=True, transform=transform)\n",
        "    testset = CIFAR10(\"./dataset\", train=False, download=True, transform=transform)\n",
        "\n",
        "    # 훈련 데이터 세트를 10개의 파티션으로 분할하여 개별 데이터 세트를 시뮬레이션 합니다.\n",
        "    partition_size = len(trainset) // NUM_CLIENTS\n",
        "    lengths = [partition_size] * NUM_CLIENTS\n",
        "    datasets = random_split(trainset, lengths, torch.Generator().manual_seed(42))\n",
        "\n",
        "    # 분할된 각 파티션에서 훈련 및 검증 세트를 생성하고 DataLoader로 포장합니다.\n",
        "    trainloaders = []\n",
        "    valloaders = []\n",
        "    for ds in datasets:\n",
        "        len_val = len(ds) // 10  # 각 분할 데이터의 1/10이 검증 데이터로 사용됩니다.\n",
        "        len_train = len(ds) - len_val\n",
        "        lengths = [len_train, len_val]\n",
        "        ds_train, ds_val = random_split(ds, lengths, torch.Generator().manual_seed(42))\n",
        "        trainloaders.append(DataLoader(ds_train, batch_size=32, shuffle=True))\n",
        "        valloaders.append(DataLoader(ds_val, batch_size=32))\n",
        "    testloader = DataLoader(testset, batch_size=32)\n",
        "    return trainloaders, valloaders, testloader\n",
        "\n",
        "trainloaders, valloaders, testloader = load_datasets()"
      ],
      "execution_count": null,
      "outputs": []
    },
    {
      "cell_type": "markdown",
      "metadata": {
        "id": "OBp7kB4G0sPB"
      },
      "source": [
        "우리는 이제 10개의 각 참여기관의 데이터를 나타내는 10개의 훈련 및 검증 데이터 세트 (`trainloaders` 및 `valloaders`) 리스트,\n",
        "\n",
        "1개의 `testloader` (테스트 세트는 분할하지 않음)를 가지고 있습니다.\n",
        "\n",
        "각 `trainloader`/`valloader` 쌍에는 4,500개의 훈련 이미지 데이터와 500개의 검증 이미지 데이터가 포함되어 있습니다.\n",
        "\n",
        "다시 한번 말씀드리지만, 해당 과정은 오로지 본 튜토리얼의 주 목적인 연합학습 시뮬레이션을 구축하기 위해서만 필요하며,\n",
        "\n",
        "실제 연합학습 시스템은 각 참여기관이 각자의 데이터를 보유하고 있습니다 (서로 간에 데이터를 공유할 수 없는 환경을 의미합니다).\n",
        "\n",
        "다음 단계로 진행하기에 앞서, 첫 번째 훈련 데이터 세트 (`trainloaders[0]`)의 첫 번째 이미지 및 레이블 배치를 살펴보겠습니다:"
      ]
    },
    {
      "cell_type": "code",
      "metadata": {
        "id": "E3dag9WeT9VH"
      },
      "source": [
        "def imshow(img):\n",
        "    img = img / 2 + 0.5  # 비정규화\n",
        "    npimg = img.numpy()\n",
        "    plt.imshow(np.transpose(npimg, (1, 2, 0)))\n",
        "    plt.show()\n",
        "\n",
        "images, labels = iter(trainloaders[0]).next()\n",
        "imshow(torchvision.utils.make_grid(images))\n",
        "print(' '.join('%5s' % CLASSES[labels[j]] for j in range(32)))"
      ],
      "execution_count": null,
      "outputs": []
    },
    {
      "cell_type": "markdown",
      "metadata": {
        "id": "4TW4Pzb7p1F9"
      },
      "source": [
        "## Part 1: PyTorch를 활용한 중앙집중형 학습\n"
      ]
    },
    {
      "cell_type": "markdown",
      "metadata": {
        "id": "cTjCmmBtqPgM"
      },
      "source": [
        "이제, PyTorch를 사용하여 간단한 합성곱 신경망 모델을 정의하겠습니다.\n",
        "\n",
        "여기서는 모든 분들이 PyTorch에 대한 기본적인 이해가 있음을 가정하고, PyTorch에 대한 내용은 자세히 다루지 않겠습니다.\n",
        "\n",
        "만약, PyTorch에 대해서 보다 깊게 배우고 싶으신 분들은 다음 링크를 추천드립니다.\n",
        "\n",
        "[*DEEP LEARNING WITH PYTORCH: A 60 MINUTE BLITZ*](https://pytorch.org/tutorials/beginner/deep_learning_60min_blitz.html).\n"
      ]
    },
    {
      "cell_type": "markdown",
      "metadata": {
        "id": "XYks8IpJL6iK"
      },
      "source": [
        "### 모델 정의\n",
        "\n",
        "[PyTorch tutorial](https://pytorch.org/tutorials/beginner/blitz/cifar10_tutorial.html#define-a-convolutional-neural-network)에서 설명하는 간단한 합성곱 신경망 모델을 정의합니다:"
      ]
    },
    {
      "cell_type": "code",
      "metadata": {
        "id": "2X3cVBXMpP6w"
      },
      "source": [
        "class Net(nn.Module):\n",
        "    def __init__(self) -> None:\n",
        "        super(Net, self).__init__()\n",
        "        self.conv1 = nn.Conv2d(3, 6, 5)\n",
        "        self.pool = nn.MaxPool2d(2, 2)\n",
        "        self.conv2 = nn.Conv2d(6, 16, 5)\n",
        "        self.fc1 = nn.Linear(16 * 5 * 5, 120)\n",
        "        self.fc2 = nn.Linear(120, 84)\n",
        "        self.fc3 = nn.Linear(84, 10)\n",
        "\n",
        "    def forward(self, x: torch.Tensor) -> torch.Tensor:\n",
        "        x = self.pool(F.relu(self.conv1(x)))\n",
        "        x = self.pool(F.relu(self.conv2(x)))\n",
        "        x = x.view(-1, 16 * 5 * 5)\n",
        "        x = F.relu(self.fc1(x))\n",
        "        x = F.relu(self.fc2(x))\n",
        "        x = self.fc3(x)\n",
        "        return x"
      ],
      "execution_count": null,
      "outputs": []
    },
    {
      "cell_type": "markdown",
      "metadata": {
        "id": "tCRhau5cr2Gd"
      },
      "source": [
        "계속해서, 훈련과 테스트 함수를 작성합니다:"
      ]
    },
    {
      "cell_type": "code",
      "metadata": {
        "id": "xIl8NfAFpyam"
      },
      "source": [
        "def train(net, trainloader, epochs: int):\n",
        "    \"\"\"Train the network on the training set.\"\"\"\n",
        "    criterion = torch.nn.CrossEntropyLoss()\n",
        "    optimizer = torch.optim.Adam(net.parameters())\n",
        "    net.train()\n",
        "    for epoch in range(epochs):\n",
        "        correct, total, epoch_loss = 0, 0, 0.0\n",
        "        for images, labels in trainloader:\n",
        "            images, labels = images.to(DEVICE), labels.to(DEVICE)\n",
        "            optimizer.zero_grad()\n",
        "            outputs = net(images)\n",
        "            loss = criterion(net(images), labels)\n",
        "            loss.backward()\n",
        "            optimizer.step()\n",
        "            # 모델 성능 측정\n",
        "            epoch_loss += loss\n",
        "            total += labels.size(0)\n",
        "            correct += (torch.max(outputs.data, 1)[1] == labels).sum().item()\n",
        "        epoch_loss /= len(testloader.dataset)\n",
        "        epoch_acc = correct / total\n",
        "        # print(f\"Epoch {epoch+1}: train loss {epoch_loss}, accuracy {epoch_acc}\")\n",
        "\n",
        "\n",
        "def test(net, testloader):\n",
        "    \"\"\"Evaluate the network on the entire test set.\"\"\"\n",
        "    criterion = torch.nn.CrossEntropyLoss()\n",
        "    correct, total, loss = 0, 0, 0.0\n",
        "    net.eval()\n",
        "    with torch.no_grad():\n",
        "        for images, labels in testloader:\n",
        "            images, labels = images.to(DEVICE), labels.to(DEVICE)\n",
        "            outputs = net(images)\n",
        "            loss += criterion(outputs, labels).item()\n",
        "            _, predicted = torch.max(outputs.data, 1)\n",
        "            total += labels.size(0)\n",
        "            correct += (predicted == labels).sum().item()\n",
        "    loss /= len(testloader.dataset)\n",
        "    accuracy = correct / total\n",
        "    return loss, accuracy"
      ],
      "execution_count": null,
      "outputs": []
    },
    {
      "cell_type": "markdown",
      "metadata": {
        "id": "GDDxh73Sszck"
      },
      "source": [
        "### 모델 학습\n",
        "\n",
        "이제 우리는 필요한 모든 기본 구성 요소(데이터 세트, 모델, 훈련 및 테스트 함수)를 갖추게 되었습니다!\n",
        "\n",
        "모델을 학습시킬 차례입니다.\n",
        "\n",
        "참여기관 중 한 곳의 데이터 세트(`trainloaders[0]`)에 대한 모델을 훈련시키기 위해 구성 요소를 조립해보도록 하겠습니다.\n",
        "\n",
        "해당 과정은 오늘날 대부분 기계 학습 프로젝트의 현실을 반영합니다.\n",
        "\n",
        "각 참여기관은 자체 데이터를 가지고 있으며, 이 데이터에 대한 모델을 교육하게 됩니다."
      ]
    },
    {
      "cell_type": "code",
      "metadata": {
        "id": "WdUTb8WgtRMz"
      },
      "source": [
        "trainloader = trainloaders[0]\n",
        "valloader = valloaders[0]\n",
        "net = Net().to(DEVICE)\n",
        "\n",
        "for epoch in range(5):\n",
        "    train(net, trainloader, 1)\n",
        "    loss, accuracy = test(net, valloader)\n",
        "    print(f\"Epoch {epoch+1}: validation loss {loss}, accuracy {accuracy}\")\n",
        "\n",
        "loss, accuracy = test(net, testloader)\n",
        "print(f\"Final test set performance:\\n\\tloss {loss}\\n\\taccuracy {accuracy}\")"
      ],
      "execution_count": null,
      "outputs": []
    },
    {
      "cell_type": "markdown",
      "metadata": {
        "id": "DhLGLdmhOhVr"
      },
      "source": [
        "10개로 분할된 CIFAR-10 데이터 세트를 간단한 합성곱 신경망(CNN)을 통해 5 epoch 동안 훈련시킨 결과는 약 **45%**의 테스트 세트 정확도를 도출해낼 것입니다.\n",
        "\n",
        "이 결과는 매우 낮다고 할 수 있으나, 이 튜토리얼의 목적상 별로 중요하지 않습니다.\n",
        "\n",
        "연합학습을 보여드리기 이전에 단순한 중앙 집중식 훈련 파이프라인을 보여드리는 것 뿐입니다!"
      ]
    },
    {
      "cell_type": "markdown",
      "metadata": {
        "id": "a6HP2cYCsqxD"
      },
      "source": [
        "## Part 2: Flower를 활용한 연합학습\n",
        "\n",
        "Part 1에서는 단순한 중앙집중식 훈련 파이프라인을 보여드렸습니다.\n",
        "\n",
        "모든 데이터는 한 곳에 있었고, `trainloader`와 `valloader`를 통해 훈련 및 검증 데이터 세트에 접근했습니다.\n",
        "\n",
        "만약 이러한 데이터를 한 곳에서 이용할 수 없다면(오늘날 대부분의 조직들이 처한 상황), 우리는 위에서 작성한 코드를 사용할 수 없습니다.\n",
        "\n",
        "이제, 여러 조직에 각각의 데이터 세트가 있는 상황을 시뮬레이션 해보도록 하겠습니다!"
      ]
    },
    {
      "cell_type": "markdown",
      "metadata": {
        "id": "mf-cW093MzeT"
      },
      "source": [
        "### 모델 파라미터 업데이트\n",
        "\n",
        "연합학습에서 서버는 전역 모델 파라미터를 클라이언트로 보내고, 클라이언트는 서버에서 수신된 모델 파라미터로 지역 모델 파라미터를 업데이트합니다.\n",
        "\n",
        "그런 다음, 지역 데이터(모델 파라미터를 각 지역에서 업데이트)에서 모델을 훈련하고, 업데이트된 모델 파라미터 또는 그래디언트를 서버로 재전송합니다.\n",
        "\n",
        "서버로부터 수신한 모델 파라미터를 이용하여 지역 모델을 업데이트하고, 지역 모델로부터 업데이트된 모델 파라미터를 얻기 위해서는 두 가지 기능이 필요합니다: \n",
        "\n",
        "`set_parameters` 및 `get_parameters`.\n",
        "\n",
        "이 두 가지 기능은 위에서 정의한 PyTorch 모델만 해당됩니다.\n",
        "\n",
        "이 작업이 어떻게 작동하는지에 대한 세부 사항은 여기서 자세히 다루지 않겠습니다 (보다 많은 정보는 PyTorch 문서에서 확인 가능).\n",
        "\n",
        "우리는 PyTorch 모델 파라미터 텐서에 접근하기 위해 `state_dict`을 사용합니다.\n",
        "\n",
        "그런 다음, 파라미터 텐서는 NumPy ndarray 리스트 형식으로 변환됩니다:"
      ]
    },
    {
      "cell_type": "code",
      "metadata": {
        "id": "1ZxGk6AMNvvV"
      },
      "source": [
        "def get_parameters(net) -> List[np.ndarray]:\n",
        "    return [val.cpu().numpy() for _, val in net.state_dict().items()]\n",
        "\n",
        "def set_parameters(net, parameters: List[np.ndarray]):\n",
        "    params_dict = zip(net.state_dict().keys(), parameters)\n",
        "    state_dict = OrderedDict({k: torch.Tensor(v) for k, v in params_dict})\n",
        "    net.load_state_dict(state_dict, strict=True)"
      ],
      "execution_count": null,
      "outputs": []
    },
    {
      "cell_type": "markdown",
      "metadata": {
        "id": "1lCf3oljdClM"
      },
      "source": [
        "### Flower 클라이언트 구현\n",
        "\n",
        "이제 진짜 연합학습을 시뮬레이션할 시간입니다!\n",
        "\n",
        "연합학습 시스템은 하나의 서버와 여러 개의 클라이언트로 구성됩니다.\n",
        "\n",
        "Flower에서는 `flwr.client.Client` 또는 `flwr.client.NumPyClient`의 하위 클래스를 구현하여 클라이언트를 생성합니다.\n",
        "\n",
        "여기서는 `flwr.client.NumPyClient`를 사용하도록 하겠습니다.\n",
        "\n",
        "왜나면 구현이 더 쉽고, 보일러 플레이트(최소한의 변경으로 여러곳에서 재사용되며, 반복적으로 비슷한 형태를 띄는 코드)를 덜 쓰기 때문이죠!\n",
        "\n",
        "`flwr.client.NumPyClient`의 하위 클래스를 생성하고, 필요한 세 가지 함수 `get_parameters`, `fit`, `evaluate`를 구현하도록 하겠습니다:\n",
        "\n",
        "* `get_parameters`: 현재 지역 모델의 파라미터를 반환합니다.\n",
        "* `fit`: 서버로부터 모델 파라미터를 수신하고 지역 데이터에서 모델 파라미터를 훈련한 후(업데이트), 모델 파라미터를 서버로 반환합니다.\n",
        "* `evaluate`: 서버로부터 모델 파라미터를 수신하고 지역 데이터의 모델 파라미터를 평가한 다음에 평가 결과를 서버로 반환합니다.\n",
        "\n",
        "우리는 클라이언트가 이전에 정의된 PyTorch 구성 요소를 모델 교육 및 평가에 사용할 것이라고 언급했습니다.\n",
        "\n",
        "이제, 모든 것을 하나로 묶는 간단한 구현을 살펴보겠습니다."
      ]
    },
    {
      "cell_type": "code",
      "metadata": {
        "id": "ye6Jt5p3LWtF"
      },
      "source": [
        "class FlowerClient(fl.client.NumPyClient):\n",
        "    def __init__(self, net, trainloader, valloader):\n",
        "        self.net = net\n",
        "        self.trainloader = trainloader\n",
        "        self.valloader = valloader\n",
        "\n",
        "    def get_parameters(self):\n",
        "        return get_parameters(self.net)\n",
        "\n",
        "    def fit(self, parameters, config):\n",
        "        set_parameters(self.net, parameters)\n",
        "        train(self.net, self.trainloader, epochs=1)\n",
        "        return get_parameters(self.net), len(trainloader), {}\n",
        "\n",
        "    def evaluate(self, parameters, config):\n",
        "        set_parameters(self.net, parameters)\n",
        "        loss, accuracy = test(self.net, self.valloader)\n",
        "        return float(loss), len(self.valloader), {\"accuracy\": float(accuracy)}"
      ],
      "execution_count": null,
      "outputs": []
    },
    {
      "cell_type": "markdown",
      "metadata": {
        "id": "Heyxd9MfHOTe"
      },
      "source": [
        "`FlowerClient`는 지역 훈련 및 평가가 어떻게 수행될 것인지 정의하고 호출할 수 있도록 합니다.\n",
        "\n",
        "`FlowerClient`의 각 인스턴스는 연합학습 시스템에서 단일 클라이언트를 나타냅니다.\n",
        "\n",
        "연합학습 시스템에는 여러 개의 클라이언트가 존재합니다(그렇지 않으면 연합학습을 하는 의미가 없죠?).\n",
        "\n",
        "따라서, 각 클라이언트는 자체적인 `FlowerClient` 인스턴스로 정의됩니다.\n",
        "\n",
        "예를 들어, 워크로드에 클라이언트가 3개라면, `FlowerClient`에 세 개의 인스턴스가 존재함을 의미합니다.\n",
        "\n",
        "Flower는 서버가 훈련용 특정 클라이언트를 선택할 때, 각 인스턴스에서 `FlowerClient.fit`을 호출하고, `FlowerClient.evaluate`를 통해 평가합니다.\n",
        "\n",
        "### 가상 클라이언트 엔진 사용\n",
        "\n",
        "이 노트북에서는 단일 머신에서 10개의 클라이언트가 존재하는 연합학습 시스템을 시뮬레이션 하고자 합니다.\n",
        "\n",
        "이는 서버와 10개의 클라이언트 모두가 단일 머신에서 CPU, GPU, 메모리 등 컴퓨터 자원을 공유한다는 뜻입니다.\n",
        "\n",
        "클라이언트가 10개라면, 10개의 `FlowerClient` 인스턴스가 메모리를 소유하게 됩니다.\n",
        "\n",
        "단일 컴퓨터에서 이를 수행한다면, 연합학습에 참여할 수 있는 클라이언트의 일부만 참여하더라도 사용 가능한 메모리 자원이 빠르게 소모됩니다.\n",
        "\n",
        "Flower는 서버와 클라이언트가 여러 대의 컴퓨터에서 작동하는 정규 기능 외에도,\n",
        "\n",
        "훈련이나 평가에 필요한 경우에만 `FlowerClient` 인스턴스를 만드는 특수한 시뮬레이션 기능을 제공합니다.\n",
        "\n",
        "필요할 때마다 Flower 프레임워크가 클라이언트를 생성할 수 있도록 하기 위해서는,\n",
        "\n",
        "클라이언트의 요구에 따라 Flower의 인스턴스를 생성하는 `client_fn` 함수를 구현해야 합니다.\n",
        "\n",
        "Flower는 특정 클라이언트가 `fit` 또는 `evaluate`를 호출할 경우, `client_fn`를 호출하게 됩니다.\n",
        "\n",
        "클라이언트는 클라이언트 ID 또는 `cid`로 식별됩니다.\n",
        "\n",
        "예를 들어, `cid`는 각 클라이언트에 대해 서로 다른 지역 데이터 파티션을 불러오는 데 사용할 수 있습니다:"
      ]
    },
    {
      "cell_type": "code",
      "metadata": {
        "id": "qkcwggRYOwWN"
      },
      "source": [
        "def client_fn(cid) -> FlowerClient:\n",
        "    \"\"\"단일 기관을 대표하는 Flower 클라이언트 생성(각 기관마다의 클라이언트 생성)\"\"\"\n",
        "\n",
        "    # 모델 불러오기 (PyTorch - CNN)\n",
        "    net = Net().to(DEVICE)\n",
        "\n",
        "    # 데이터 불러오기 (CIFAR-10)\n",
        "    trainloader = trainloaders[int(cid)]\n",
        "    valloader = valloaders[int(cid)]\n",
        "\n",
        "    # 단일 기관을 대표하는 Flower 클라이언트 생성(각 기관마다의 클라이언트 생성)\n",
        "    return FlowerClient(net, trainloader, valloader)"
      ],
      "execution_count": null,
      "outputs": []
    },
    {
      "cell_type": "markdown",
      "metadata": {
        "id": "axzXSMtlfhXU"
      },
      "source": [
        "### 훈련 시작!\n",
        "\n",
        "우리는 이제 특정 클라이언트에게 `fit` 또는 `evaluate`가 필요할 때마다 `FlowerClient`를 생성할 수 있는 `client_fn`를 만들었습니다!\n",
        "\n",
        "드디어 마지막 단계입니다.\n",
        "\n",
        "`flwr.simulation.start_simulation`를 이용하여 실제 시뮬레이션을 시작하겠습니다. \n",
        "\n",
        "`start_simulation`는 `FlowerClient` 인스턴스를 만드는 데 사용되는 `client_fn`, `num_clients`, `num_rounds`, `strategy` 옵션을 포함하고 있습니다.\n",
        "\n",
        "여기서 `strategy`는 *Federated Averaging* (FedAvg)와 같은 연합학습 접근법/알고리즘을 캡슐화하는 기능을 수행합니다.\n",
        "\n",
        "Flower는 여러가지 내장된 `strategy`를 가지고 있지만, 사용자 정의 `strategy` 또한 구현하고 사용할 수 있습니다.\n",
        "\n",
        "본 튜토리얼에서는 `FedAvg` 구현을 기본으로 사용하고, 몇 가지 기본 파라미터를 사용하여 정의합니다.\n",
        "\n",
        "마지막으로, 시뮬레이션을 시작하는 `start_simulation`를 호출합니다:"
      ]
    },
    {
      "cell_type": "code",
      "metadata": {
        "id": "ELNy0-0nfyI2"
      },
      "source": [
        "# FedAvg 전략(전역 모델 파라미터 규합 방법) 생성\n",
        "strategy=fl.server.strategy.FedAvg(\n",
        "        fraction_fit=1.0,  # 훈련을 위해서 사용 가능한 클라이언트의 100% 이용\n",
        "        fraction_eval=0.5,  # 평가를 위해서 사용 가능한 클라이언트의 50% 이용\n",
        "        min_fit_clients=10,  # 훈련을 위해서는 적어도 10개 이상의 클라이언트가 필요\n",
        "        min_eval_clients=5,  # 평가를 위해서는 적어도 5개 이상의 클라이언트가 필요\n",
        "        min_available_clients=10,  # 사용 가능한 클라이언트의 수가 10이 될 때까지 대기\n",
        ")\n",
        "\n",
        "# 시뮬레이션 시작\n",
        "fl.simulation.start_simulation(\n",
        "    client_fn=client_fn,\n",
        "    num_clients=NUM_CLIENTS,\n",
        "    num_rounds=5,\n",
        "    strategy=strategy\n",
        ")"
      ],
      "execution_count": null,
      "outputs": []
    },
    {
      "cell_type": "markdown",
      "metadata": {
        "id": "e_lIXlErb9qN"
      },
      "source": [
        "그렇다면 이 시뮬레이션은 어떻게 진행될까요?\n",
        "\n",
        "`start_simulation`을 호출하면 Flower에게 10개의 클라이언트(`num_clients=10`)이 있다고 전달합니다.\n",
        "\n",
        "그러면 Flower는 클라이언트 선정 전략을 묻는 질문을 던집니다.\n",
        "\n",
        "`FedAvg`는 이용 가능한 전체 클라이언트 중 100%를 선택(`fraction_fit=1.0`)해야한다고 전달받았기 때문에,\n",
        "\n",
        "이용 가능한 전체 클라이언트 중 무작위 클라이언트 10개(전체 10개 중 100%)를 선정합니다.\n",
        "\n",
        "그런 다음 Flower는 선택한 10개의 클라이언트들에게 모델을 훈련하라고 요청합니다."
      ]
    },
    {
      "cell_type": "markdown",
      "metadata": {
        "id": "umvwX56Of3Cr"
      },
      "source": [
        "## 끝마치며\n",
        "\n",
        "**축하합니다!**\n",
        "\n",
        "드디어 10개 이상의 클라이언트를 연합학습으로 훈련시켰습니다.\n",
        "\n",
        "이것으로 여러분은 Flower를 활용한 연합학습의 기본을 익히게 되었습니다.\n",
        "\n",
        "여러분이 지금까지 보고 학습해온 접근법은 PyTorch 뿐만 아니라, 다른 어떠한 기계 학습 프레임워크에도 적용할 수 있습니다.\n",
        "\n",
        "다음으로, 우리는 몇 가지 심화 개념을 배울 예정입니다.\n",
        "\n",
        "연합학습 전략을 커스터마이징하고 싶으신가요?\n",
        "\n",
        "아니면, 서버 파라미터 초기화? 서버와 클라이언트 간의 임의 값 전달?\n",
        "\n",
        "그것도 아니면, 서버 집계 모델 평가?\n",
        "\n",
        "이 모든 건 다음 튜토리얼에서 다룰 것입니다.\n",
        "\n",
        "**다음에 봐요!**"
      ]
    },
    {
      "cell_type": "code",
      "metadata": {
        "id": "7SFzXer1Uds9"
      },
      "source": [
        ""
      ],
      "execution_count": null,
      "outputs": []
    }
  ]
}