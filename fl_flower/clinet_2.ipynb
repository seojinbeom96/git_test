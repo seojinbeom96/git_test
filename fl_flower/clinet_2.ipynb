{
 "cells": [
  {
   "cell_type": "code",
   "execution_count": 4,
   "id": "b4c78223",
   "metadata": {},
   "outputs": [
    {
     "name": "stderr",
     "output_type": "stream",
     "text": [
      "DEBUG flower 2021-10-21 15:16:25,670 | connection.py:36 | ChannelConnectivity.IDLE\n",
      "INFO flower 2021-10-21 15:16:25,671 | app.py:61 | Opened (insecure) gRPC connection\n",
      "DEBUG flower 2021-10-21 15:16:25,671 | connection.py:36 | ChannelConnectivity.READY\n"
     ]
    },
    {
     "name": "stdout",
     "output_type": "stream",
     "text": [
      "313/313 [==============================] - 4s 14ms/step - loss: 2.3026 - accuracy: 0.1000\n",
      "3/3 [==============================] - 0s 45ms/step - loss: 2.6290 - accuracy: 0.1458\n",
      "313/313 [==============================] - 4s 13ms/step - loss: 2.3027 - accuracy: 0.1000\n",
      "3/3 [==============================] - 0s 46ms/step - loss: 3.0972 - accuracy: 0.1042\n",
      "313/313 [==============================] - 4s 14ms/step - loss: 2.3026 - accuracy: 0.1000\n"
     ]
    },
    {
     "name": "stderr",
     "output_type": "stream",
     "text": [
      "DEBUG flower 2021-10-21 15:16:46,947 | connection.py:68 | Insecure gRPC channel closed\n",
      "INFO flower 2021-10-21 15:16:46,947 | app.py:72 | Disconnect and shut down\n"
     ]
    }
   ],
   "source": [
    "import os\n",
    "\n",
    "import flwr as fl\n",
    "import tensorflow as tf\n",
    "\n",
    "# Make TensorFlow log less verbose\n",
    "os.environ[\"TF_CPP_MIN_LOG_LEVEL\"] = \"3\"\n",
    "\n",
    "\n",
    "if __name__ == \"__main__\":\n",
    "    # Load and compile Keras model\n",
    "    model = tf.keras.applications.MobileNetV2((32, 32, 3), classes=10, weights=None)\n",
    "    model.compile(\"adam\", \"sparse_categorical_crossentropy\", metrics=[\"accuracy\"])\n",
    "\n",
    "    # Load CIFAR-10 dataset\n",
    "    (x_train, y_train), (x_test, y_test) = tf.keras.datasets.cifar10.load_data()\n",
    "\n",
    "    # Define Flower client\n",
    "    class CifarClient(fl.client.NumPyClient):\n",
    "        def get_parameters(self):  # type: ignore\n",
    "            return model.get_weights()\n",
    "\n",
    "        def fit(self, parameters, config):  # type: ignore\n",
    "            model.set_weights(parameters)\n",
    "            model.fit(x_train, y_train, epochs=1, batch_size=32, steps_per_epoch=3)\n",
    "            return model.get_weights(), len(x_train), {}\n",
    "\n",
    "        def evaluate(self, parameters, config):  # type: ignore\n",
    "            model.set_weights(parameters)\n",
    "            loss, accuracy = model.evaluate(x_test, y_test)\n",
    "            return loss, len(x_test), {\"accuracy\": accuracy}\n",
    "\n",
    "    # Start Flower client\n",
    "    fl.client.start_numpy_client(\"127.0.0.1:8080\", client=CifarClient())\n"
   ]
  },
  {
   "cell_type": "code",
   "execution_count": null,
   "id": "d480d0a5",
   "metadata": {},
   "outputs": [],
   "source": []
  }
 ],
 "metadata": {
  "kernelspec": {
   "display_name": "Python 3 (ipykernel)",
   "language": "python",
   "name": "python3"
  },
  "language_info": {
   "codemirror_mode": {
    "name": "ipython",
    "version": 3
   },
   "file_extension": ".py",
   "mimetype": "text/x-python",
   "name": "python",
   "nbconvert_exporter": "python",
   "pygments_lexer": "ipython3",
   "version": "3.8.12"
  }
 },
 "nbformat": 4,
 "nbformat_minor": 5
}
