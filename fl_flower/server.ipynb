{
 "cells": [
  {
   "cell_type": "code",
   "execution_count": 2,
   "id": "427b2355",
   "metadata": {},
   "outputs": [
    {
     "name": "stderr",
     "output_type": "stream",
     "text": [
      "INFO flower 2021-10-21 15:15:17,109 | app.py:77 | Flower server running (insecure, 3 rounds)\n",
      "INFO flower 2021-10-21 15:15:17,109 | server.py:118 | Initializing global parameters\n",
      "INFO flower 2021-10-21 15:15:17,110 | server.py:304 | Requesting initial parameters from one random client\n",
      "INFO flower 2021-10-21 15:15:20,889 | server.py:307 | Received initial parameters from one random client\n",
      "INFO flower 2021-10-21 15:15:20,890 | server.py:120 | Evaluating initial parameters\n",
      "INFO flower 2021-10-21 15:15:20,890 | server.py:133 | FL starting\n",
      "DEBUG flower 2021-10-21 15:15:35,853 | server.py:251 | fit_round: strategy sampled 2 clients (out of 2)\n",
      "DEBUG flower 2021-10-21 15:15:35,972 | server.py:260 | fit_round received 0 results and 2 failures\n",
      "DEBUG flower 2021-10-21 15:16:25,671 | server.py:201 | evaluate_round: strategy sampled 2 clients (out of 2)\n",
      "DEBUG flower 2021-10-21 15:16:30,956 | server.py:210 | evaluate_round received 2 results and 0 failures\n",
      "DEBUG flower 2021-10-21 15:16:30,957 | server.py:251 | fit_round: strategy sampled 2 clients (out of 2)\n",
      "DEBUG flower 2021-10-21 15:16:33,695 | server.py:260 | fit_round received 1 results and 1 failures\n",
      "DEBUG flower 2021-10-21 15:16:34,269 | server.py:201 | evaluate_round: strategy sampled 2 clients (out of 2)\n",
      "DEBUG flower 2021-10-21 15:16:39,463 | server.py:210 | evaluate_round received 2 results and 0 failures\n",
      "DEBUG flower 2021-10-21 15:16:39,463 | server.py:251 | fit_round: strategy sampled 2 clients (out of 2)\n",
      "DEBUG flower 2021-10-21 15:16:42,141 | server.py:260 | fit_round received 2 results and 0 failures\n",
      "DEBUG flower 2021-10-21 15:16:42,247 | server.py:201 | evaluate_round: strategy sampled 2 clients (out of 2)\n",
      "DEBUG flower 2021-10-21 15:16:46,935 | server.py:210 | evaluate_round received 2 results and 0 failures\n",
      "INFO flower 2021-10-21 15:16:46,935 | server.py:172 | FL finished in 86.0456572999999\n",
      "INFO flower 2021-10-21 15:16:46,937 | app.py:119 | app_fit: losses_distributed [(1, 2.30259108543396), (2, 2.3026506900787354), (3, 2.3026223182678223)]\n",
      "INFO flower 2021-10-21 15:16:46,938 | app.py:120 | app_fit: metrics_distributed {}\n",
      "INFO flower 2021-10-21 15:16:46,938 | app.py:121 | app_fit: losses_centralized []\n",
      "INFO flower 2021-10-21 15:16:46,938 | app.py:122 | app_fit: metrics_centralized {}\n"
     ]
    }
   ],
   "source": [
    "import flwr as fl\n",
    "\n",
    "# Start Flower server for three rounds of federated learning\n",
    "if __name__ == \"__main__\":\n",
    "    fl.server.start_server(\"127.0.0.1:8080\", config={\"num_rounds\": 3}) # 서버 통신을 위한 IP:port\n"
   ]
  },
  {
   "cell_type": "code",
   "execution_count": null,
   "id": "e50b0c56",
   "metadata": {},
   "outputs": [],
   "source": []
  }
 ],
 "metadata": {
  "kernelspec": {
   "display_name": "Python 3",
   "language": "python",
   "name": "python3"
  },
  "language_info": {
   "codemirror_mode": {
    "name": "ipython",
    "version": 3
   },
   "file_extension": ".py",
   "mimetype": "text/x-python",
   "name": "python",
   "nbconvert_exporter": "python",
   "pygments_lexer": "ipython3",
   "version": "3.8.10"
  }
 },
 "nbformat": 4,
 "nbformat_minor": 5
}
